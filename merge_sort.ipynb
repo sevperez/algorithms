{
 "nbformat": 4,
 "nbformat_minor": 2,
 "metadata": {
  "language_info": {
   "name": "python",
   "codemirror_mode": {
    "name": "ipython",
    "version": 3
   },
   "version": "3.7.4-final"
  },
  "orig_nbformat": 2,
  "file_extension": ".py",
  "mimetype": "text/x-python",
  "name": "python",
  "npconvert_exporter": "python",
  "pygments_lexer": "ipython3",
  "version": 3,
  "kernelspec": {
   "name": "python37464bitbaseconda8be4407dcb414f74a367a91720d25dc3",
   "display_name": "Python 3.7.4 64-bit ('base': conda)"
  }
 },
 "cells": [
  {
   "cell_type": "markdown",
   "metadata": {},
   "source": [
    "# Merge Sort\n",
    "\n",
    "A notebook to illustrate the merge sort algorithm in Python."
   ]
  },
  {
   "cell_type": "markdown",
   "metadata": {},
   "source": [
    "## Pseudocode\n",
    "\n",
    "### Overall\n",
    "1. Split the list into right and left halves\n",
    "2. Recursively sort the left half\n",
    "3. Recursively sort the right half\n",
    "4. Merge the two halves\n",
    "\n",
    "### Merge\n",
    "1. Initialize an output array of length n (length left + length right)\n",
    "2. Set counters i and j to 0 (for the left and right halves respectively)\n",
    "3. Loop 0..n\n",
    "    - On each loop, check if current value on left or right side is smaller\n",
    "    - Place the smaller value in the output array\n",
    "    - Increment the counter on the array that provided the smaller value\n",
    "\n",
    "#### Merge (pseudo)\n",
    "```\n",
    "    for k = 0 to n\n",
    "        if left(i) < right(j)\n",
    "            output[k] = left(i)\n",
    "            i++\n",
    "        else\n",
    "            output[k] = right(j)\n",
    "            j++\n",
    "    end\n",
    "```\n"
   ]
  },
  {
   "cell_type": "code",
   "execution_count": 1,
   "metadata": {},
   "outputs": [],
   "source": [
    "# import libraries\n",
    "import math\n",
    "import random"
   ]
  },
  {
   "cell_type": "code",
   "execution_count": 2,
   "metadata": {},
   "outputs": [],
   "source": [
    "# merge function\n",
    "def merge(left, right):\n",
    "    output = []\n",
    "    total_length = len(left) + len(right)\n",
    "    i, j = 0, 0\n",
    "\n",
    "    for k in range(0, total_length):\n",
    "        if i >= len(left):\n",
    "            output.append(right[j])\n",
    "            j += 1\n",
    "        elif j >= len(right):\n",
    "            output.append(left[i])\n",
    "            i += 1\n",
    "        elif left[i] < right[j]:\n",
    "            output.append(left[i])\n",
    "            i += 1\n",
    "        else:\n",
    "            output.append(right[j])\n",
    "            j += 1\n",
    "\n",
    "    return output"
   ]
  },
  {
   "cell_type": "code",
   "execution_count": 3,
   "metadata": {},
   "outputs": [
    {
     "name": "stdout",
     "output_type": "stream",
     "text": "[1, 2, 3, 4, 5, 6, 7, 8, 9, 10]\nTrue\n"
    }
   ],
   "source": [
    "# sample merge\n",
    "left = [3, 4, 6, 8, 10]\n",
    "right = [1, 2, 5, 7, 9]\n",
    "merged = merge(left, right)\n",
    "print(merged)\n",
    "print(merged == [1, 2, 3, 4, 5, 6, 7, 8, 9, 10])"
   ]
  },
  {
   "cell_type": "code",
   "execution_count": 10,
   "metadata": {},
   "outputs": [],
   "source": [
    "# merge_sort function\n",
    "def merge_sort(items):\n",
    "    center = math.floor(len(items) / 2)\n",
    "    left, right = items[:center], items[center:]\n",
    "\n",
    "    if len(left) <= 1 and len(right) <= 1:\n",
    "        return merge(left, right)\n",
    "    else:\n",
    "        return merge(merge_sort(left), merge_sort(right))"
   ]
  },
  {
   "cell_type": "code",
   "execution_count": 11,
   "metadata": {},
   "outputs": [
    {
     "name": "stdout",
     "output_type": "stream",
     "text": "[1, 2, 3, 4, 5, 6, 7, 8, 9, 10]\nTrue\n"
    }
   ],
   "source": [
    "# sample merge_sort\n",
    "items = [3, 5, 1, 9, 2, 4, 6, 7, 8, 10]\n",
    "sorted_items = merge_sort(items)\n",
    "print(sorted_items)\n",
    "print(sorted_items == [1, 2, 3, 4, 5, 6, 7, 8, 9, 10])"
   ]
  },
  {
   "cell_type": "code",
   "execution_count": 15,
   "metadata": {},
   "outputs": [
    {
     "name": "stdout",
     "output_type": "stream",
     "text": "Sorting with `merge_sort`...\nCPU times: user 613 ms, sys: 2.99 ms, total: 616 ms\nWall time: 616 ms\nSorting with Python library `sorted`\nCPU times: user 12.9 ms, sys: 294 µs, total: 13.2 ms\nWall time: 13.3 ms\n`merge_sort` and Python library `sorted` produce same result:\nTrue\n"
    }
   ],
   "source": [
    "# sort a large list (n = 100000) of random integers\n",
    "# test correctness by comparing with Python library sorting method\n",
    "\n",
    "# instantiate a large list with random integers\n",
    "large_list = [random.randint(0, 1000) for i in range(100000)]\n",
    "\n",
    "# sort list with custom merge_sort along with benchmark time\n",
    "print(\"Sorting with `merge_sort`...\")\n",
    "%time merge_sorted = merge_sort(large_list)\n",
    "\n",
    "print(\"Sorting with Python library `sorted`\")\n",
    "\n",
    "%time python_sorted = sorted(large_list)\n",
    "\n",
    "print(\"`merge_sort` and Python library `sorted` produce same result:\")\n",
    "print(merge_sorted == python_sorted)"
   ]
  },
  {
   "cell_type": "code",
   "execution_count": null,
   "metadata": {},
   "outputs": [],
   "source": []
  }
 ]
}