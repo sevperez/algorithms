{
 "nbformat": 4,
 "nbformat_minor": 2,
 "metadata": {
  "language_info": {
   "name": "python",
   "codemirror_mode": {
    "name": "ipython",
    "version": 3
   },
   "version": "3.7.1-final"
  },
  "orig_nbformat": 2,
  "file_extension": ".py",
  "mimetype": "text/x-python",
  "name": "python",
  "npconvert_exporter": "python",
  "pygments_lexer": "ipython3",
  "version": 3,
  "kernelspec": {
   "name": "python37164bitbasecondaed9d546ad884474793b46334ba45ed28",
   "display_name": "Python 3.7.1 64-bit ('base': conda)"
  }
 },
 "cells": [
  {
   "cell_type": "markdown",
   "metadata": {},
   "source": [
    "# Integer Multiplication Algorithms\n",
    "\n",
    "## Algorithms\n",
    "\n",
    "1. Grade School Mulitplication\n",
    "2. Recursive Integer Multiplication\n",
    "3. Karatsuba Multiplication\n",
    "\n",
    "## Resources\n",
    "\n",
    "1. Algorithms Illuminated (Roughgarden, Tim) ([link](http://algorithmsilluminated.com))\n",
    "\n",
    "---"
   ]
  },
  {
   "cell_type": "code",
   "execution_count": 1,
   "metadata": {},
   "outputs": [],
   "source": [
    "# libraries\n",
    "import math"
   ]
  },
  {
   "cell_type": "markdown",
   "metadata": {},
   "source": [
    "## Recursive Integer Multiplication\n",
    "\n",
    "### Details\n",
    "\n",
    "**Input:** Two n-digit positive integers `x` and `y`.\n",
    "\n",
    "**Output:** The product of `x` and `y`.\n",
    "\n",
    "**Assumption:** `n` is a power of 2.\n",
    "\n",
    "### Pseudocode\n",
    "\n",
    "```\n",
    "if n = 1 then\n",
    "    compute x * y and return result\n",
    "else\n",
    "    a, b = first / second halves of x\n",
    "    c, d = first / second halves of y\n",
    "    recursively compute a * c, a * d, b * c, and b * d\n",
    "    return 10^n * ac + 10^n/2 * (ad + bc) + bd\n",
    "```\n",
    "Note: Pseudocode derived from resource (1)"
   ]
  },
  {
   "cell_type": "code",
   "execution_count": 24,
   "metadata": {},
   "outputs": [],
   "source": [
    "# helper function to check n-digits\n",
    "def n_digits(i):\n",
    "    int_string = str(i)\n",
    "    return len(int_string)\n",
    "\n",
    "# helper function to split integers into halves\n",
    "def int_halves(i):\n",
    "    if i < 10:\n",
    "        return i, 0\n",
    "    \n",
    "    int_string = str(i)\n",
    "    if i < 100:\n",
    "        return int(int_string[0]), int(int_string[1])\n",
    "    \n",
    "    center = int(n_digits(i) / 2) + 1\n",
    "    return int(int_string[:center]), int(int_string[center:])\n",
    "\n",
    "def rec_int_mult(x, y):\n",
    "    n = n_digits(x)\n",
    "    if n == 1:\n",
    "        return x * y  # single digit multiplication is a primitive\n",
    "    a, b = int_halves(x)\n",
    "    c, d = int_halves(y)\n",
    "\n",
    "    print(a, b, c, d)\n",
    "    ac = rec_int_mult(a, c)\n",
    "    ad = rec_int_mult(a, d)\n",
    "    bc = rec_int_mult(b, c)\n",
    "    bd = rec_int_mult(b, d)\n",
    "    return (10**n * ac) + (10**(n/2) * (ad + bc)) + bd"
   ]
  },
  {
   "cell_type": "code",
   "execution_count": 25,
   "metadata": {},
   "outputs": [
    {
     "name": "stdout",
     "output_type": "stream",
     "text": "9031 93 3806 81\n903 1 380 6\n90 3 38 0\n9 0 3 8\n9 0 0 0\n90 3 6 0\n9 0 6 0\n9 0 0 0\n903 1 8 1\n90 3 8 0\n9 0 8 0\n9 0 0 0\n90 3 1 0\n9 0 1 0\n9 0 0 0\n9 3 380 6\n9 3 8 1\nFalse\n"
    }
   ],
   "source": [
    "# check correctness by comparing to built-in multiplication\n",
    "# print(rec_int_mult(11, 22) == 11 * 22)\n",
    "# print(rec_int_mult(97, 33) == 97 * 33)\n",
    "# print(rec_int_mult(8905, 3812) == 8905 * 3812)\n",
    "print(rec_int_mult(903193, 380681) == 903193 * 380681)\n",
    "# print(rec_int_mult(490561958196, 853972118672) == 490561958196 * 853972118672)"
   ]
  },
  {
   "cell_type": "code",
   "execution_count": 5,
   "metadata": {},
   "outputs": [
    {
     "data": {
      "text/plain": "242"
     },
     "execution_count": 5,
     "metadata": {},
     "output_type": "execute_result"
    }
   ],
   "source": [
    "11 * 22"
   ]
  },
  {
   "cell_type": "code",
   "execution_count": null,
   "metadata": {},
   "outputs": [],
   "source": []
  }
 ]
}