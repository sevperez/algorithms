{
 "cells": [
  {
   "cell_type": "markdown",
   "metadata": {},
   "source": [
    "## Exploring Asymptotic Analysis\n",
    "\n",
    "At some point in every programmer's career, the term \"asymptotic analysis\" invariably makes an appearance. For those with a formal computer science background, it probably happened in your first introductory class. For self-taught programmers, it may not have happened until much later. Either way, understanding asymptotic analysis is a critical part of every programmer's journey.\n",
    "\n",
    "Let's get one thing out of the way first. \"Asymptotic analysis\" just means \"growth rate\". It has to do with analyzing the performance of algorithms. We'll delve into that in a moment, but first let's agree that what we're really talking about is time and efficiency. A fast, memory-efficient program is one that is more pleasant and useful to the user. That's why we care about \"asymptotic analysis\".\n",
    "\n",
    "The goal of this notebook is to break through the formality of \"asymptotic analysis\" and focus on the basics. Technical definitions have their place, and you'll find a few at the end of this notebook, but core concepts are more important for day-to-day use. Hopefully, this notebook will help you in your own exploration of asymptotic analysis and you'll be writing efficient algorithms in no time."
   ]
  },
  {
   "cell_type": "code",
   "execution_count": 3,
   "metadata": {},
   "outputs": [],
   "source": [
    "# load libraries\n",
    "import pandas as pd\n",
    "import numpy as np\n",
    "import matplotlib.pyplot as plt\n",
    "import seaborn as sns"
   ]
  },
  {
   "cell_type": "code",
   "execution_count": 2,
   "metadata": {},
   "outputs": [],
   "source": [
    "# load utility classes\n",
    "from utilities.asymptotic_analyzer import AsymptoticAnalyzer\n",
    "from utilities.op_counter import OpCounter"
   ]
  },
  {
   "cell_type": "code",
   "execution_count": null,
   "metadata": {},
   "outputs": [],
   "source": []
  }
 ],
 "metadata": {
  "language_info": {
   "codemirror_mode": {
    "name": "ipython",
    "version": 3
   },
   "file_extension": ".py",
   "mimetype": "text/x-python",
   "name": "python",
   "nbconvert_exporter": "python",
   "pygments_lexer": "ipython3",
   "version": "3.7.1-final"
  },
  "orig_nbformat": 2,
  "kernelspec": {
   "name": "python37164bitbasecondaed9d546ad884474793b46334ba45ed28",
   "display_name": "Python 3.7.1 64-bit ('base': conda)"
  }
 },
 "nbformat": 4,
 "nbformat_minor": 2
}